{
 "cells": [
  {
   "cell_type": "markdown",
   "metadata": {},
   "source": [
    "### Just a few suggestions to get your started"
   ]
  },
  {
   "cell_type": "code",
   "execution_count": 23,
   "metadata": {},
   "outputs": [],
   "source": [
    "# Create an initially empty data frame with all the columns needed\n",
    "# Here I'm just using columns for timestamp, type of expense, and amount\n",
    "import pandas as pd\n",
    "\n",
    "# add more as needed\n",
    "expense_types = ['rent', 'utilities', 'food', 'transportation', 'entertainment', 'clothing', 'miscellaneous']\n",
    "\n",
    "# By default these will all be float64, which is fine for amount but needs to be \n",
    "# changed for type and timestamp\n",
    "df = pd.DataFrame(columns=['timestamp', 'type', 'amount'])\n",
    "\n",
    "# Convert the 'timestamp' column to DateTime and normalize to remove time\n",
    "df['timestamp'] = pd.to_datetime(df['timestamp']).dt.normalize()\n",
    "\n",
    "# Set the 'type' column to string type\n",
    "df['type'] = df['type'].astype(str)\n",
    "\n",
    "# Save as Excel file\n",
    "df.to_excel('expenses.xlsx', index=False)"
   ]
  },
  {
   "cell_type": "code",
   "execution_count": 24,
   "metadata": {},
   "outputs": [
    {
     "name": "stdout",
     "output_type": "stream",
     "text": [
      "2024-10-01\n"
     ]
    }
   ],
   "source": [
    "# simulate adding a expense\n",
    "from datetime import datetime, timedelta\n",
    "\n",
    "df = pd.read_excel('expenses.xlsx')  \n",
    "\n",
    "# get the current date only \n",
    "date = datetime.now().date()\n",
    "print(date)"
   ]
  },
  {
   "cell_type": "code",
   "execution_count": 25,
   "metadata": {},
   "outputs": [
    {
     "name": "stdout",
     "output_type": "stream",
     "text": [
      "2024-09-30 2024-09-29\n"
     ]
    }
   ],
   "source": [
    "# this is just so I can get a few different dates for more entries\n",
    "date2 = date - timedelta(days=1) # yesterday\n",
    "date3 = date - timedelta(days=2) # two days ago\n",
    "print(date2, date3)    "
   ]
  },
  {
   "cell_type": "code",
   "execution_count": 26,
   "metadata": {},
   "outputs": [
    {
     "data": {
      "text/html": [
       "<div>\n",
       "<style scoped>\n",
       "    .dataframe tbody tr th:only-of-type {\n",
       "        vertical-align: middle;\n",
       "    }\n",
       "\n",
       "    .dataframe tbody tr th {\n",
       "        vertical-align: top;\n",
       "    }\n",
       "\n",
       "    .dataframe thead th {\n",
       "        text-align: right;\n",
       "    }\n",
       "</style>\n",
       "<table border=\"1\" class=\"dataframe\">\n",
       "  <thead>\n",
       "    <tr style=\"text-align: right;\">\n",
       "      <th></th>\n",
       "      <th>timestamp</th>\n",
       "      <th>type</th>\n",
       "      <th>amount</th>\n",
       "    </tr>\n",
       "  </thead>\n",
       "  <tbody>\n",
       "    <tr>\n",
       "      <th>0</th>\n",
       "      <td>2024-09-29</td>\n",
       "      <td>entertainment</td>\n",
       "      <td>20</td>\n",
       "    </tr>\n",
       "    <tr>\n",
       "      <th>1</th>\n",
       "      <td>2024-09-30</td>\n",
       "      <td>food</td>\n",
       "      <td>50</td>\n",
       "    </tr>\n",
       "    <tr>\n",
       "      <th>2</th>\n",
       "      <td>2024-10-01</td>\n",
       "      <td>rent</td>\n",
       "      <td>1000</td>\n",
       "    </tr>\n",
       "    <tr>\n",
       "      <th>3</th>\n",
       "      <td>2024-10-01</td>\n",
       "      <td>food</td>\n",
       "      <td>40</td>\n",
       "    </tr>\n",
       "  </tbody>\n",
       "</table>\n",
       "</div>"
      ],
      "text/plain": [
       "    timestamp           type amount\n",
       "0  2024-09-29  entertainment     20\n",
       "1  2024-09-30           food     50\n",
       "2  2024-10-01           rent   1000\n",
       "3  2024-10-01           food     40"
      ]
     },
     "metadata": {},
     "output_type": "display_data"
    }
   ],
   "source": [
    "# add a new row to the dataframe with hardcoded values\n",
    "# note that the dict values must be a 1 element list!\\\n",
    "row_dict = {'timestamp': [date3], 'type': ['entertainment'], 'amount': [20]}\n",
    "df = pd.concat([df, pd.DataFrame(row_dict)], ignore_index=True)\n",
    "\n",
    "row_dict = {'timestamp': [date2], 'type': ['food'], 'amount': [50]}\n",
    "df = pd.concat([df, pd.DataFrame(row_dict)], ignore_index=True)\n",
    "\n",
    "row_dict = {'timestamp': [date], 'type': ['rent'], 'amount': [1000]}\n",
    "df = pd.concat([df, pd.DataFrame(row_dict)], ignore_index=True)\n",
    "\n",
    "row_dict = {'timestamp': [date], 'type': ['food'], 'amount': [40]}\n",
    "df = pd.concat([df, pd.DataFrame(row_dict)], ignore_index=True)\n",
    "\n",
    "display(df)\n",
    "# save the updated dataframe to the csv file\n",
    "df.to_excel('expenses.xlsx', index=False)\n"
   ]
  },
  {
   "cell_type": "code",
   "execution_count": null,
   "metadata": {},
   "outputs": [],
   "source": [
    "# Your turn: \n",
    "# add a expense but have the user type in the values using input()\n",
    "# for timestamp, just use datetime.now().date() to get the current date\n",
    "# for type, make sure it is one of the expense_types, so you will need to check the input\n",
    "# and reprompt if it is not in the expense_types list\n",
    "# for amount, you can assume that it's a valid input (i.e. no need to check if it's a number),\n",
    "# however, you must convert the input() string to a float before adding it to the dataframe\n",
    "\n"
   ]
  },
  {
   "cell_type": "code",
   "execution_count": 27,
   "metadata": {},
   "outputs": [
    {
     "name": "stdout",
     "output_type": "stream",
     "text": [
      "{'rent': 1000, 'utilities': 200, 'food': 300, 'transportation': 100, 'entertainment': 50, 'clothing': 50, 'miscellaneous': 50}\n"
     ]
    }
   ],
   "source": [
    "# set spending limits for each type of expense per month\n",
    "# I hardcode this here but it could be set by the user or read from a csv file\n",
    "\n",
    "# create a dictionary to hold the limits\n",
    "expense_limits = {}\n",
    "expense_limits['rent'] = 1000\n",
    "expense_limits['utilities'] = 200\n",
    "expense_limits['food'] = 300\n",
    "expense_limits['transportation'] = 100\n",
    "expense_limits['entertainment'] = 50\n",
    "expense_limits['clothing'] = 50\n",
    "expense_limits['miscellaneous'] = 50\n",
    "\n",
    "print(expense_limits)"
   ]
  },
  {
   "cell_type": "code",
   "execution_count": null,
   "metadata": {},
   "outputs": [],
   "source": [
    "# copy your user expense entry here and then add the code to check if the expense \n",
    "# would be over the limit. This will require that you figure the total sum of expenses\n",
    "# for each type. If the are over budget, just give a warning."
   ]
  },
  {
   "cell_type": "code",
   "execution_count": null,
   "metadata": {},
   "outputs": [],
   "source": []
  },
  {
   "cell_type": "code",
   "execution_count": null,
   "metadata": {},
   "outputs": [],
   "source": []
  },
  {
   "cell_type": "code",
   "execution_count": null,
   "metadata": {},
   "outputs": [],
   "source": []
  },
  {
   "cell_type": "code",
   "execution_count": 21,
   "metadata": {},
   "outputs": [
    {
     "data": {
      "text/plain": [
       "<Axes: xlabel='timestamp', ylabel='amount'>"
      ]
     },
     "execution_count": 21,
     "metadata": {},
     "output_type": "execute_result"
    },
    {
     "data": {
      "image/png": "[encoded data removed]",
      "text/plain": [
       "<Figure size 432x288 with 1 Axes>"
      ]
     },
     "metadata": {
      "needs_background": "light"
     },
     "output_type": "display_data"
    }
   ],
   "source": [
    "# Use seaborn to plot the data\n",
    "# this is pretty simple and will eventually need to be customized\n",
    "# to show the expense limits in some way\n",
    "\n",
    "import seaborn as sns\n",
    "import matplotlib.pyplot as plt\n",
    "\n",
    "# read the data from the  file\n",
    "df = pd.read_excel('expenses.xlsx')\n",
    "\n",
    "# plot the data\n",
    "sns.barplot(x='timestamp', y='amount', hue='type', data=df)"
   ]
  }
 ],
 "metadata": {
  "kernelspec": {
   "display_name": "Python 3",
   "language": "python",
   "name": "python3"
  },
  "language_info": {
   "codemirror_mode": {
    "name": "ipython",
    "version": 3
   },
   "file_extension": ".py",
   "mimetype": "text/x-python",
   "name": "python",
   "nbconvert_exporter": "python",
   "pygments_lexer": "ipython3",
   "version": "3.10.9"
  }
 },
 "nbformat": 4,
 "nbformat_minor": 2
}
