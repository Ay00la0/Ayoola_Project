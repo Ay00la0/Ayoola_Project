{
 "cells": [
  {
   "cell_type": "markdown",
   "metadata": {},
   "source": [
    "Project HCI 584X - Personal Budgeting and Expense Tracker"
   ]
  },
  {
   "cell_type": "code",
   "execution_count": 1,
   "metadata": {},
   "outputs": [
    {
     "name": "stdout",
     "output_type": "stream",
     "text": [
      "Requirement already satisfied: pandas in c:\\users\\tobia\\appdata\\local\\programs\\python\\python311\\lib\\site-packages (2.2.1)\n",
      "Requirement already satisfied: numpy<2,>=1.23.2 in c:\\users\\tobia\\appdata\\local\\programs\\python\\python311\\lib\\site-packages (from pandas) (1.26.4)\n",
      "Requirement already satisfied: python-dateutil>=2.8.2 in c:\\users\\tobia\\appdata\\roaming\\python\\python311\\site-packages (from pandas) (2.8.2)\n",
      "Requirement already satisfied: pytz>=2020.1 in c:\\users\\tobia\\appdata\\local\\programs\\python\\python311\\lib\\site-packages (from pandas) (2024.1)\n",
      "Requirement already satisfied: tzdata>=2022.7 in c:\\users\\tobia\\appdata\\local\\programs\\python\\python311\\lib\\site-packages (from pandas) (2024.1)\n",
      "Requirement already satisfied: six>=1.5 in c:\\users\\tobia\\appdata\\roaming\\python\\python311\\site-packages (from python-dateutil>=2.8.2->pandas) (1.16.0)\n",
      "Note: you may need to restart the kernel to use updated packages.\n"
     ]
    },
    {
     "name": "stderr",
     "output_type": "stream",
     "text": [
      "\n",
      "[notice] A new release of pip is available: 23.2.1 -> 24.2\n",
      "[notice] To update, run: python.exe -m pip install --upgrade pip\n"
     ]
    }
   ],
   "source": [
    "pip install pandas"
   ]
  },
  {
   "cell_type": "code",
   "execution_count": 23,
   "metadata": {},
   "outputs": [],
   "source": [
    "import pandas as pd\n",
    "from datetime import datetime\n",
    "\n",
    "class PersonalBudgetApp:\n",
    "    def __init__(self):\n",
    "        # Initialize an empty list for categories and a DataFrame for expenses\n",
    "        self.categories = ['Food','Housing', 'Transportation', 'Entertainment', 'Health and Fitness', 'Personal Care', 'Education', 'Savings and Investments', 'Others/Miscellaneous']  # List to store categories\n",
    "        self.df = pd.DataFrame(columns=['Date', 'Time', 'Amount', 'Category'])  # Initialize empty DataFrame\n",
    "\n",
    "    def log_expense(self, amount, category):\n",
    "        # Step 1: Collect user input for expense details\n",
    "        amount = float(input(\"Enter the amount: \"))  # Get amount from user\n",
    "        category = input(\"Enter the category (1.Food, 2.Housing, 3.Transportation, 4.Entertainment, 5.Health and Fitness, 6.Personal Care, 7.Education, 8.Savings and Investments, 9.Others/Miscellaneous): \")  # Get category\n",
    "        date = input(\"Enter the date (YYYY-MM-DD) or press enter for today's date: \")  # Get date; use today's date if empty\n",
    "        time = input(\"Enter the time (HH:MM:SS) or press enter for current time: \")  # Get time; use current time if empty ##Do i need to remove the seconds?\n",
    "\n",
    "\n",
    "        # Log an expense with the current date, time, amount, and category\n",
    "        if category not in self.categories:\n",
    "            # Check if the category exists\n",
    "            print(f\"Category '{category}' does not exist. Please add it first.\")\n",
    "            return\n",
    "        \n",
    "        try:\n",
    "            #Convert the amount input from string to float \n",
    "            amount = str(category)\n",
    "\n",
    "        except ValueError:\n",
    "            print(f\"Invalid category: '{category}' Please enter a valid category.\")\n",
    "            return\n",
    "        \n",
    "    def add_category(self, category):\n",
    "        # Add a new category to the list\n",
    "        if category not in self.categories:\n",
    "            self.categories.append(category)  # Add category if it doesn't exist\n",
    "            print(f\"Category '{category}' added.\")\n",
    "        else:\n",
    "            # Inform if the category already exists\n",
    "            print(f\"Category '{category}' already exists.\")\n",
    "\n",
    "    def view_categories(self):\n",
    "        # Display the list of categories\n",
    "        print(\"Categories:\")\n",
    "        for category in self.categories:\n",
    "            print(f\"- {category}\")\n",
    "\n",
    "    def set_budget(self):\n",
    "        # Prompt user to set budget for each category\n",
    "      \n",
    "\n",
    "        date = datetime.now().strftime('%Y-%m-%d')  # Today's date\n",
    "        time = datetime.now().strftime('%H:%M:%S') # The current time in today's ##Do i need to remove the seconds?\n",
    "        \n",
    "        # Create a new DataFrame for the expense\n",
    "        new_expense = pd.DataFrame({'Date': [date], 'Time': [time], 'Amount': [amount], 'Category': [category]})\n",
    "        # Concatenate the new expense to the existing DataFrame\n",
    "        self.df = pd.concat([self.df, new_expense], ignore_index=True)\n",
    "        print(f\"Expense logged: {amount} in {category} on {date} at {time}\")\n",
    "\n",
    "   \n",
    "\n",
    "\n"
   ]
  }
 ],
 "metadata": {
  "kernelspec": {
   "display_name": "Python 3",
   "language": "python",
   "name": "python3"
  },
  "language_info": {
   "codemirror_mode": {
    "name": "ipython",
    "version": 3
   },
   "file_extension": ".py",
   "mimetype": "text/x-python",
   "name": "python",
   "nbconvert_exporter": "python",
   "pygments_lexer": "ipython3",
   "version": "3.11.5"
  }
 },
 "nbformat": 4,
 "nbformat_minor": 2
}
