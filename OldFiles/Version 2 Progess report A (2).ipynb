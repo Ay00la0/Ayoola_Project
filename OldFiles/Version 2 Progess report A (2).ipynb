{
 "cells": [
  {
   "cell_type": "markdown",
   "metadata": {},
   "source": [
    "Project HCI 584X - Personal Budgeting and Expense Tracker"
   ]
  },
  {
   "cell_type": "code",
   "execution_count": 2,
   "metadata": {},
   "outputs": [
    {
     "name": "stdout",
     "output_type": "stream",
     "text": [
      "Requirement already satisfied: openpyxl in c:\\users\\tobia\\appdata\\local\\programs\\python\\python311\\lib\\site-packages (3.1.5)\n",
      "Requirement already satisfied: et-xmlfile in c:\\users\\tobia\\appdata\\local\\programs\\python\\python311\\lib\\site-packages (from openpyxl) (1.1.0)\n",
      "Note: you may need to restart the kernel to use updated packages.\n"
     ]
    },
    {
     "name": "stderr",
     "output_type": "stream",
     "text": [
      "\n",
      "[notice] A new release of pip is available: 23.2.1 -> 24.3.1\n",
      "[notice] To update, run: python.exe -m pip install --upgrade pip\n"
     ]
    }
   ],
   "source": [
    "%pip install openpyxl"
   ]
  },
  {
   "cell_type": "code",
   "execution_count": 3,
   "metadata": {},
   "outputs": [
    {
     "name": "stdout",
     "output_type": "stream",
     "text": [
      "\n",
      "Testing init()\n",
      "Initialization complete. Categories and expenses have been saved.\n",
      "Check 'categories.csv' for default categories and 'expenses.xlsx' for an empty expense sheet.\n"
     ]
    }
   ],
   "source": [
    "import pandas as pd\n",
    "from datetime import datetime\n",
    "\n",
    "def init():\n",
    "    \"\"\"\n",
    "    Initializes the expense tracking system.\n",
    "    \"\"\"\n",
    "    categories = ['Food', 'Housing', 'Transportation', 'Entertainment', 'Health and Fitness', \n",
    "                  'Personal Care', 'Education', 'Savings and Investments', 'Others/Miscellaneous']\n",
    "\n",
    "    # Save categories as CSV file\n",
    "    with open('categories.csv', 'w') as f:\n",
    "        for category in categories:\n",
    "            f.write(f\"{category}\\n\")\n",
    "\n",
    "    # Define columns with types\n",
    "    columns = {\n",
    "        'Date': pd.Series(dtype='datetime64[ns]'),\n",
    "        'Category': pd.Series(dtype='str'),\n",
    "        'Amount': pd.Series(dtype='float')\n",
    "    }\n",
    "    \n",
    "    # Create a DataFrame to store the expenses    \n",
    "    df = pd.DataFrame(columns)\n",
    "    df.to_excel('expenses.xlsx', index=False)\n",
    "    print(\"Initialization complete. Categories and expenses have been saved.\")\n",
    "\n",
    "# Test for init function\n",
    "print(\"\\nTesting init()\")\n",
    "init()\n",
    "print(\"Check 'categories.csv' for default categories and 'expenses.xlsx' for an empty expense sheet.\")"
   ]
  },
  {
   "cell_type": "code",
   "execution_count": 4,
   "metadata": {},
   "outputs": [
    {
     "name": "stdout",
     "output_type": "stream",
     "text": [
      "\n",
      "Testing read_categories()\n",
      "Categories read from CSV:\n",
      "['Food', 'Housing', 'Transportation', 'Entertainment', 'Health and Fitness', 'Personal Care', 'Education', 'Savings and Investments', 'Others/Miscellaneous']\n",
      "Expected to see the default categories including 'Food', 'Housing', etc.\n"
     ]
    }
   ],
   "source": [
    "def read_categories(): \n",
    "    \"\"\"Reads categories from a CSV file and returns them as a list.\"\"\"\n",
    "    with open('categories.csv', 'r') as f:\n",
    "        categories = f.read().splitlines() \n",
    "    return categories\n",
    "\n",
    "# Test for read_categories function\n",
    "print(\"\\nTesting read_categories()\")\n",
    "categories = read_categories()\n",
    "print(\"Categories read from CSV:\")\n",
    "print(categories)\n",
    "print(\"Expected to see the default categories including 'Food', 'Housing', etc.\")"
   ]
  },
  {
   "cell_type": "code",
   "execution_count": 5,
   "metadata": {},
   "outputs": [
    {
     "name": "stdout",
     "output_type": "stream",
     "text": [
      "\n",
      "Testing log_expense()\n",
      "Logging an expense of $15.00 under 'Food' with today's date...\n",
      "        Date Category  Amount\n",
      "0 2024-10-14     Food    15.0\n",
      "Expense logged: $15.0 in Food on 2024-10-14.\n",
      "Check 'expenses.xlsx' to see if the new expense is logged.\n",
      "Expense logged: $20.0 in Housing on 2024-10-14.\n"
     ]
    },
    {
     "data": {
      "text/plain": [
       "True"
      ]
     },
     "execution_count": 5,
     "metadata": {},
     "output_type": "execute_result"
    }
   ],
   "source": [
    "def log_expense(amount=None, category_number=None, date_input=None):\n",
    "    \"\"\"\n",
    "    Logs an expense. Repeats until a valid entry is provided.\n",
    "    \"\"\"\n",
    "    # Read the list of categories from a CSV file using the helper function `read_categories`\n",
    "    categories = read_categories()\n",
    "    \n",
    "    # Load the existing expenses from 'expenses.xlsx' into a DataFrame\n",
    "    df = pd.read_excel('expenses.xlsx')\n",
    "    \n",
    "    # Create a dictionary to map category numbers to their names\n",
    "    # For example, {'1': 'Food', '2': 'Housing', ...}\n",
    "    categories_dict = {str(i + 1): category for i, category in enumerate(categories)}\n",
    "\n",
    "    # Start a loop to ensure valid inputs are provided for amount, category, and date\n",
    "    while True:\n",
    "        # If the amount is not provided, prompt the user to enter it\n",
    "        if amount is None:\n",
    "            amount = input(\"Enter the amount: \")\n",
    "        try:\n",
    "            # Try to convert the input amount to a float\n",
    "            amount = float(amount)\n",
    "        except ValueError:\n",
    "            # If conversion fails, print an error message and restart the loop\n",
    "            print(\"Invalid amount. Please enter a valid number.\")\n",
    "            continue\n",
    "\n",
    "        # If the category number is not provided, prompt the user to select one\n",
    "        if category_number is None:\n",
    "            category_number = input(f\"Enter the category number {categories_dict}: \")\n",
    "        \n",
    "        # Retrieve the category name using the entered category number\n",
    "        category = categories_dict.get(str(category_number))\n",
    "\n",
    "        # If the category number is invalid, print an error message and restart the loop\n",
    "        if not category:\n",
    "            print(f\"Invalid category number. Please select a valid category.\")\n",
    "            continue\n",
    "\n",
    "        # If the date input is not provided, prompt the user to enter a date\n",
    "        if date_input is None:\n",
    "            date_input = input(\"Enter the date (YYYY-MM-DD) or press enter for today's date: \")\n",
    "        \n",
    "        # If the user presses enter, use today's date\n",
    "        if date_input == \"\":\n",
    "            date = datetime.now().date()\n",
    "        else:\n",
    "            try:\n",
    "                # Try to convert the date input to a `datetime` object\n",
    "                date = datetime.strptime(date_input, \"%Y-%m-%d\").date()\n",
    "            except ValueError:\n",
    "                # If conversion fails, print an error message and restart the loop\n",
    "                print(\"Invalid date format. Please enter the date in YYYY-MM-DD format.\")\n",
    "                continue\n",
    "\n",
    "        # Create a dictionary representing the new expense entry\n",
    "        new_row = {'Date': [date], 'Category': [category], 'Amount': [amount]}\n",
    "\n",
    "        # Convert the dictionary to a DataFrame so it can be appended to the existing data\n",
    "        new_row_df = pd.DataFrame(new_row)\n",
    "        \n",
    "        # if df is empty, create a new DataFrame from new_row, and also define the desired dtypes for each column\n",
    "        if df.empty:\n",
    "            # Define the desired dtypes for each column\n",
    "            dtypes = {\n",
    "                'Date': 'datetime64[ns]',\n",
    "                'Category': 'str',\n",
    "                'Amount': 'float'\n",
    "            }\n",
    "            df = pd.DataFrame(new_row).astype(dtypes)\n",
    "            print(df)\n",
    "\n",
    "        else:\n",
    "            # Concatenate the new DataFrame to the existing one, effectively adding the new expense\n",
    "            df = pd.concat([df, new_row_df], ignore_index=True)\n",
    "        \n",
    "        # Save the updated DataFrame back to 'expenses.xlsx'\n",
    "        df.to_excel('expenses.xlsx', index=False)\n",
    "        \n",
    "        # Print a message confirming the expense was logged\n",
    "        print(f\"Expense logged: ${amount} in {category} on {date}.\")\n",
    "        \n",
    "        # Return `True` to indicate the logging process was successful\n",
    "        return True\n",
    "\n",
    "# Test for log_expense function\n",
    "print(\"\\nTesting log_expense()\")\n",
    "print(\"Logging an expense of $15.00 under 'Food' with today's date...\")\n",
    "log_expense(15.00, 1, \"2024-10-14\")\n",
    "print(\"Check 'expenses.xlsx' to see if the new expense is logged.\")\n",
    "log_expense(20.00, 2, \"2024-10-14\")"
   ]
  },
  {
   "cell_type": "code",
   "execution_count": 6,
   "metadata": {},
   "outputs": [
    {
     "name": "stdout",
     "output_type": "stream",
     "text": [
      "\n",
      "Testing add_category()\n",
      "Adding a new category 'Travel'...\n",
      "Category 'Travel' added.\n",
      "Check 'categories.csv' to see if 'Travel' was added.\n",
      "Category 'Travel' already exists.\n"
     ]
    }
   ],
   "source": [
    "def add_category(category):\n",
    "    \"\"\"\n",
    "    Adds a new category and saves it back to the categories CSV.\n",
    "    \"\"\"\n",
    "    # Read the existing list of categories using the helper function `read_categories`.\n",
    "    categories = read_categories()\n",
    "    \n",
    "    # Check if the new category is not already in the existing list.\n",
    "    if category not in categories:\n",
    "        # If it's not present, add the new category to the list.\n",
    "        categories.append(category)\n",
    "        \n",
    "        # Open the 'categories.csv' file in write mode to update the file with the new list.\n",
    "        with open('categories.csv', 'w') as f:\n",
    "            # Write each category from the updated list into the file, one per line.\n",
    "            for cat in categories:\n",
    "                f.write(f\"{cat}\\n\")\n",
    "        \n",
    "        # Print a message confirming that the new category was added.\n",
    "        print(f\"Category '{category}' added.\")\n",
    "    else:\n",
    "        # If the category already exists, print a message stating that it already exists.\n",
    "        print(f\"Category '{category}' already exists.\")\n",
    "\n",
    "# Test for add_category function\n",
    "print(\"\\nTesting add_category()\")\n",
    "print(\"Adding a new category 'Travel'...\")\n",
    "add_category(\"Travel\")\n",
    "print(\"Check 'categories.csv' to see if 'Travel' was added.\")\n",
    "add_category(\"Travel\")   # test for already existing category"
   ]
  },
  {
   "cell_type": "code",
   "execution_count": 7,
   "metadata": {},
   "outputs": [
    {
     "name": "stdout",
     "output_type": "stream",
     "text": [
      "\n",
      "Testing view_categories()\n",
      "Categories:\n",
      "- Food\n",
      "- Housing\n",
      "- Transportation\n",
      "- Entertainment\n",
      "- Health and Fitness\n",
      "- Personal Care\n",
      "- Education\n",
      "- Savings and Investments\n",
      "- Others/Miscellaneous\n",
      "- Travel\n",
      "Expected to see the list of categories including 'Food', 'Housing', and possibly 'Travel'.\n"
     ]
    }
   ],
   "source": [
    "# this is nice for version 1 but once you have a UI you would get the list from read_categories\n",
    "# and have the UI disaply the list of categories\n",
    "def view_categories():\n",
    "    \"\"\"\n",
    "    Displays the list of expense categories.\n",
    "    \"\"\"\n",
    "    # Read the existing list of categories using the helper function `read_categories`.\n",
    "    categories = read_categories()\n",
    "    \n",
    "    # Print a header for the category list.\n",
    "    print(\"Categories:\")\n",
    "    \n",
    "    # Loop through each category and print it in a bullet-point format.\n",
    "    for category in categories:\n",
    "        print(f\"- {category}\")\n",
    "\n",
    "# Test for view_categories function\n",
    "print(\"\\nTesting view_categories()\")\n",
    "view_categories()\n",
    "print(\"Expected to see the list of categories including 'Food', 'Housing', and possibly 'Travel'.\")"
   ]
  },
  {
   "cell_type": "code",
   "execution_count": 8,
   "metadata": {},
   "outputs": [
    {
     "name": "stdout",
     "output_type": "stream",
     "text": [
      "\n",
      "Testing check_budget()\n",
      "Setting a budget of $10.00 for 'Food'.\n",
      "Warning: You have exceeded your budget of $10.0 for Food. Total spent: $15.\n",
      "!!!Expected output: Warning message since total expenses in 'Food' is $15.00, which exceeds $10.00!!!\n"
     ]
    }
   ],
   "source": [
    "# CH for version 2 you could use the budget in the categories.csv file\n",
    "# it would have to changed to this\n",
    "# Category,Budget\n",
    "# Food, 20\n",
    "# Housing, -1  # negative means no budget was set\n",
    "# ...\n",
    "# then read/write it using pandas\n",
    "\n",
    "def check_budget(category, budget):\n",
    "    \"\"\"\n",
    "    Checks if the total expenses in a given category exceed the specified budget.\n",
    "    \"\"\"\n",
    "    # Read the expenses data from the 'expenses.xlsx' file into a DataFrame.\n",
    "    df = pd.read_excel('expenses.xlsx')\n",
    "    \n",
    "    # Filter the DataFrame to get the total expenses for the specified category and sum them up.\n",
    "    category_expenses = df[df['Category'] == category]['Amount'].sum()\n",
    "    \n",
    "    # Compare total expenses with the provided budget and print appropriate messages.\n",
    "    if category_expenses > budget:\n",
    "        # If expenses exceed the budget, print a warning message.\n",
    "        print(f\"Warning: You have exceeded your budget of ${budget} for {category}. Total spent: ${category_expenses}.\")\n",
    "    else:\n",
    "        # If expenses are within the budget, print a positive message.\n",
    "        print(f\"Good news! You are within your budget of ${budget} for {category}. Total spent: ${category_expenses}.\")\n",
    "\n",
    "# Test for check_budget function\n",
    "print(\"\\nTesting check_budget()\")\n",
    "print(\"Setting a budget of $10.00 for 'Food'.\")\n",
    "check_budget(\"Food\", 10.00)\n",
    "print(\"!!!Expected output: Warning message since total expenses in 'Food' is $15.00, which exceeds $10.00!!!\")"
   ]
  },
  {
   "cell_type": "code",
   "execution_count": 9,
   "metadata": {},
   "outputs": [
    {
     "name": "stdout",
     "output_type": "stream",
     "text": [
      "Good news! You are within your budget of $15.0 for Savings and Investment. Total spent: $0.\n",
      "Expense logged: $23.0 in Entertainment on 2024-10-14.\n",
      "Categories:\n",
      "- Food\n",
      "- Housing\n",
      "- Transportation\n",
      "- Entertainment\n",
      "- Health and Fitness\n",
      "- Personal Care\n",
      "- Education\n",
      "- Savings and Investments\n",
      "- Others/Miscellaneous\n",
      "- Travel\n"
     ]
    }
   ],
   "source": [
    "check_budget(\"Savings and Investment\", 15.00)\n",
    "log_expense(23.00, 4, \"2024-10-14\")\n",
    "view_categories()"
   ]
  },
  {
   "cell_type": "code",
   "execution_count": 44,
   "metadata": {},
   "outputs": [
    {
     "name": "stdout",
     "output_type": "stream",
     "text": [
      "        Date       Category  Amount\n",
      "0 2024-10-14           Food      15\n",
      "1 2024-10-14        Housing      20\n",
      "2 2024-10-14  Entertainment      23\n"
     ]
    },
    {
     "data": {
      "image/png": "[encoded data removed]",
      "text/plain": [
       "<Figure size 1000x600 with 1 Axes>"
      ]
     },
     "metadata": {},
     "output_type": "display_data"
    },
    {
     "data": {
      "image/png": "[encoded data removed]",
      "text/plain": [
       "<Figure size 1000x600 with 1 Axes>"
      ]
     },
     "metadata": {},
     "output_type": "display_data"
    }
   ],
   "source": [
    "# Use seaborn to plot the data\n",
    "# this is pretty simple and will eventually need to be customized\n",
    "# to show the expense limits in some way\n",
    "\n",
    "import seaborn as sns\n",
    "import matplotlib.pyplot as plt\n",
    "\n",
    "# Read the data from the Excel file\n",
    "df = pd.read_excel('expenses.xlsx')\n",
    "\n",
    "# Check the structure of the dataframe\n",
    "print(df.head())\n",
    "\n",
    "# Assuming df has columns 'Date', 'Category', and 'Amount'\n",
    "# Convert 'Date' to datetime if it's not already\n",
    "df['Date'] = pd.to_datetime(df['Date'])\n",
    "\n",
    "# Add the total expense by category for simplicity in plotting\n",
    "category_expenses = df.groupby('Category')['Amount'].sum().reset_index()\n",
    "\n",
    "# Create a basic bar plot with Seaborn to show total expenses per category\n",
    "plt.figure(figsize=(10 , 6))\n",
    "\n",
    "# CH changed this b/c it was giving a Future warning\n",
    "#sns.barplot(x='Category', y='Amount', data=category_expenses, palette='viridis')\n",
    "sns.barplot(x='Category', y='Amount', hue='Category', data = category_expenses, palette='deep', dodge=True, legend=True, alpha = 0.6)\n",
    "\n",
    "# Add cumulative expenses over time\n",
    "# Sort by date and then calculate the cumulative sum of Amount within each Category\n",
    "df = df.sort_values('Category')\n",
    "df['Cummulative_Amount'] = df.groupby('Category')['Amount'].cumsum()\n",
    "\n",
    "#Plot cummulative expenses over time\n",
    "plt.figure(figsize=(10 , 6))\n",
    "sns.lineplot(x = 'Category', y = 'Cummulative_Amount', hue = 'Category', data = df, palette = 'bright', marker = 'o')\n",
    "\n",
    "# Add labels and title to the plot\n",
    "plt.xlabel('Expense Category')\n",
    "plt.ylabel('Total Amount Spent')\n",
    "plt.title('Total Expenses by Category')\n",
    "plt.xticks(rotation=45, ha='right')  # Rotate the category names for better readability\n",
    "\n",
    "plt.tight_layout()\n",
    "plt.show()\n",
    "\n",
    "\n",
    "\n"
   ]
  },
  {
   "cell_type": "markdown",
   "metadata": {},
   "source": [
    "other color pallette options for category colors:\n",
    "\n",
    "deep: A default qualitative palette with a variety of colors.\n",
    "muted: A palette with softer colors.\n",
    "pastel: A palette with light, pastel colors.\n",
    "bright: A palette with bright, vibrant colors.\n",
    "dark: A palette with darker colors.\n",
    "colorblind: A palette designed to be accessible to colorblind individuals."
   ]
  }
 ],
 "metadata": {
  "kernelspec": {
   "display_name": "Python 3",
   "language": "python",
   "name": "python3"
  },
  "language_info": {
   "codemirror_mode": {
    "name": "ipython",
    "version": 3
   },
   "file_extension": ".py",
   "mimetype": "text/x-python",
   "name": "python",
   "nbconvert_exporter": "python",
   "pygments_lexer": "ipython3",
   "version": "3.11.5"
  }
 },
 "nbformat": 4,
 "nbformat_minor": 2
}
