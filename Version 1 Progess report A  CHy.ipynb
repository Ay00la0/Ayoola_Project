{
 "cells": [
  {
   "cell_type": "markdown",
   "metadata": {},
   "source": [
    "Project HCI 584X - Personal Budgeting and Expense Tracker"
   ]
  },
  {
   "cell_type": "code",
   "execution_count": 19,
   "metadata": {},
   "outputs": [],
   "source": [
    "import pandas as pd\n",
    "from datetime import datetime\n",
    "\n",
    "def init():\n",
    "    \"\"\"\n",
    "    Initializes the expense tracking system by performing the following actions:\n",
    "    1. Defines a list of default expense categories.\n",
    "    2. Saves the categories to a CSV file named 'categories.csv'.\n",
    "    3. Creates a DataFrame to store expenses with columns for 'Date', 'Amount', and 'Category'.\n",
    "    4. Normalizes the 'Date' column to remove time information i.e. uses only the date.\n",
    "    5. Ensures the 'Category' column is of string type.\n",
    "    6. Saves the DataFrame as an Excel file named 'expenses.xlsx'.\n",
    "\n",
    "    Returns:\n",
    "        None\n",
    "    \"\"\"\n",
    "    categories = ['Food', 'Housing', 'Transportation', 'Entertainment', 'Health and Fitness', 'Personal Care', 'Education', 'Savings and Investments', 'Others/Miscellaneous']\n",
    "\n",
    "    # save categories as csv file\n",
    "    with open('categories.csv', 'w') as f:\n",
    "        for category in categories:\n",
    "            f.write(f\"{category}\\n\")\n",
    "\n",
    "    # define columns with types\n",
    "    columns = {\n",
    "    'Date': pd.Series(dtype='datetime64[ns]'),\n",
    "    'Category': pd.Series(dtype='str'),\n",
    "    'Amount': pd.Series(dtype='float')\n",
    "    }\n",
    "    \n",
    "    # make a dataframe to store the expenses    \n",
    "    df = pd.DataFrame(columns)\n",
    "\n",
    "    # Save as Excel file\n",
    "    df.to_excel('expenses.xlsx', index=False)"
   ]
  },
  {
   "cell_type": "code",
   "execution_count": 25,
   "metadata": {},
   "outputs": [],
   "source": [
    "init()"
   ]
  },
  {
   "cell_type": "code",
   "execution_count": 26,
   "metadata": {},
   "outputs": [],
   "source": [
    "\n",
    "def read_categories():\n",
    "    \"\"\"\n",
    "    Reads categories from a CSV file.\n",
    "\n",
    "    This function opens the 'categories.csv' file, reads its contents line by line,\n",
    "    and returns a list of categories. Each line in the file is treated as a separate\n",
    "    category.\n",
    "\n",
    "    Returns:\n",
    "        list: A list of categories read from the CSV file.\n",
    "    \"\"\"\n",
    "    with open('categories.csv', 'r') as f:\n",
    "        categories = f.read().splitlines() \n",
    "    return categories\n",
    "\n",
    "def log_expense():\n",
    "    \"\"\"\n",
    "    Logs an expense by prompting the user for the amount, category, and date.\n",
    "    This function reads categories from a CSV file and expenses from an Excel file. \n",
    "    It constructs a dictionary mapping user input numbers to category names. \n",
    "    The user is prompted to enter an amount, a category number, and a date. \n",
    "    If the category does not exist or the amount/date format is invalid, \n",
    "    the function will return False. Otherwise, it appends the new expense \n",
    "    to the DataFrame and saves it back to the Excel file.\n",
    "    Returns:\n",
    "        bool: True if the expense was logged successfully, False otherwise.\n",
    "    \"\"\"\n",
    "    # read the categories from the csv file\n",
    "    categories = read_categories()\n",
    "    print(categories)# DEBUG\n",
    "\n",
    "    # read the expenses from the excel file\n",
    "    df = pd.read_excel('expenses.xlsx')\n",
    "    #print(df)# DEBUG  \n",
    "\n",
    "    # make a dict with the user number as key and the category as value\n",
    "    categories_dict = {str(i+1): category for i, category in enumerate(categories)}\n",
    "\n",
    "    #print(categories_dict)# DEBUG\n",
    "\n",
    "    amount = float(input(\"Enter the amount: \"))  # Get amount from user\n",
    "    try:\n",
    "        amount = float(amount)  # Convert the amount input from string to float\n",
    "    except ValueError:\n",
    "        print(f\"Invalid amount: '{amount}'. Please enter a valid amount.\")\n",
    "        return False\n",
    "\n",
    "    # TODO: construct a question with the categories and the number from the dict\n",
    "    # so if the categories change the numbers will change as well\n",
    "    question = \"Enter the category (1.Food, 2.Housing, 3.Transportation, 4.Entertainment, 5.Health and Fitness, 6.Personal Care, 7.Education, 8.Savings and Investments, 9.Others/Miscellaneous): \"\n",
    "    category_number = input(question)  # Get category\n",
    "    category = categories_dict.get(category_number)\n",
    "\n",
    "    if category not in categories:\n",
    "        print(f\"Category '{category}' does not exist. Please add it first.\")\n",
    "        return False\n",
    "\n",
    "    date = input(\"Enter the date (YYYY-MM-DD) or press enter for today's date: \")  # Get date; use today's date if empty\n",
    "    \n",
    "    if date == \"\":\n",
    "        date = datetime.now().date()\n",
    "    else:\n",
    "        # TODO: put a try except block the error if the format was wrong and return False\n",
    "        date = datetime.strptime(date, \"%Y-%m-%d\").date() # Convert the date input from YYYY-MM-DD to datetime\n",
    "\n",
    "    # add to dictionary\n",
    "    row_dict = {'Date': [date], 'Category': [category], 'Amount': [amount]}\n",
    "    new_row_df = pd.DataFrame(row_dict)\n",
    "\n",
    "    # Check if the DataFrame is empty before concatenating\n",
    "    # This avoids getting a warning when concatenating an empty DataFrame\n",
    "    if df.empty:\n",
    "        df = new_row_df\n",
    "    else:\n",
    "        df = pd.concat([df, new_row_df], ignore_index=True)\n",
    "    #print(df)# DEBUG\n",
    "\n",
    "    # save the dataframe to the excel file\n",
    "    df.to_excel('expenses.xlsx', index=False)\n",
    "    print(f\"Expense logged: ${amount} in {category} on {date} \")\n",
    "    return True\n"
   ]
  },
  {
   "cell_type": "code",
   "execution_count": 27,
   "metadata": {},
   "outputs": [
    {
     "name": "stdout",
     "output_type": "stream",
     "text": [
      "['Food', 'Housing', 'Transportation', 'Entertainment', 'Health and Fitness', 'Personal Care', 'Education', 'Savings and Investments', 'Others/Miscellaneous']\n",
      "Empty DataFrame\n",
      "Columns: [Date, Category, Amount]\n",
      "Index: []\n",
      "{'1': 'Food', '2': 'Housing', '3': 'Transportation', '4': 'Entertainment', '5': 'Health and Fitness', '6': 'Personal Care', '7': 'Education', '8': 'Savings and Investments', '9': 'Others/Miscellaneous'}\n",
      "         Date Category  Amount\n",
      "0  2024-10-02     Food   12.34\n",
      "Expense logged: $12.34 in Food on 2024-10-02 \n"
     ]
    },
    {
     "data": {
      "text/plain": [
       "True"
      ]
     },
     "execution_count": 27,
     "metadata": {},
     "output_type": "execute_result"
    }
   ],
   "source": [
    "# test logging an expense\n",
    "log_expense()"
   ]
  },
  {
   "cell_type": "code",
   "execution_count": null,
   "metadata": {},
   "outputs": [],
   "source": [
    "# TODO: run log_expense in a while loop until it returns True\n"
   ]
  },
  {
   "cell_type": "code",
   "execution_count": null,
   "metadata": {},
   "outputs": [],
   "source": [
    "\n",
    "def add_category(category):\n",
    "    if category not in categories:\n",
    "        categories.append(category)  # Add category if it doesn't exist\n",
    "        print(f\"Category '{category}' added.\")\n",
    "    else:\n",
    "        print(f\"Category '{category}' already exists.\")\n",
    "\n",
    "def view_categories():\n",
    "    print(\"Categories:\")\n",
    "    for category in categories:\n",
    "        print(f\"- {category}\")\n",
    "\n",
    "def set_budget():\n",
    "    # Implementation for setting budget can be added here\n",
    "    pass\n",
    "\n",
    "   \n",
    "\n",
    "\n"
   ]
  }
 ],
 "metadata": {
  "kernelspec": {
   "display_name": "Python 3",
   "language": "python",
   "name": "python3"
  },
  "language_info": {
   "codemirror_mode": {
    "name": "ipython",
    "version": 3
   },
   "file_extension": ".py",
   "mimetype": "text/x-python",
   "name": "python",
   "nbconvert_exporter": "python",
   "pygments_lexer": "ipython3",
   "version": "3.10.9"
  }
 },
 "nbformat": 4,
 "nbformat_minor": 2
}
